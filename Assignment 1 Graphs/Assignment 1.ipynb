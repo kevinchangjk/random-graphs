{
 "cells": [
  {
   "cell_type": "markdown",
   "metadata": {},
   "source": [
    "# Erdos-Renyi Model\n",
    "### Using the Erdos-Renyi model, find the graph of probability that all nodes in a random graph are connected, against probability $p$, for different values of $n$. Then, find an expression for the threshold probability of the graph as a function of $n$."
   ]
  },
  {
   "cell_type": "markdown",
   "metadata": {},
   "source": [
    "The first part of the code defines a function to trial and output the probability of all nodes in a random graph being connected, for a fixed $n$ and $p$. This here is the function, and an example of its usage."
   ]
  },
  {
   "cell_type": "code",
   "execution_count": 1,
   "metadata": {},
   "outputs": [
    {
     "name": "stdout",
     "output_type": "stream",
     "text": [
      "Number of nodes: 100\n",
      "Probability: 0.05\n",
      "Probability of all being connected: 0.54\n"
     ]
    }
   ],
   "source": [
    "import numpy as np\n",
    "import networkx as nx\n",
    "import matplotlib.pyplot as plt\n",
    "\n",
    "# function meant to calculate the proportion of connected graphs for a given n and p\n",
    "def test(n, p, num):   \n",
    "    count = 0\n",
    "    for i in range(num):\n",
    "        g = nx.erdos_renyi_graph(n, p)\n",
    "        if nx.is_connected(g):\n",
    "            count +=1\n",
    "    percentage = (count/num)\n",
    "    return percentage\n",
    "\n",
    "# Example of running test() function\n",
    "n, p, num = 100, 0.05, 100   \n",
    "res = test(n, p, num)\n",
    "\n",
    "print(f\"Number of nodes: {n}\\nProbability: {p}\\nProbability of all being connected: {res}\")"
   ]
  },
  {
   "cell_type": "markdown",
   "metadata": {},
   "source": [
    "Next, we extend this function to trial for different values of $p$, and collect the data, thus constructing such a graph for a fixed value of $n$. Below is just an example."
   ]
  },
  {
   "cell_type": "code",
   "execution_count": 46,
   "metadata": {},
   "outputs": [],
   "source": [
    "# Collecting data for different values of p for a given n, using the \"graph\" dictionary\n",
    "graph = {}   \n",
    "for p in np.arange(0, 0.3, 0.01):\n",
    "    res = test(n, p, 10)\n",
    "    graph[p] = res"
   ]
  },
  {
   "cell_type": "markdown",
   "metadata": {},
   "source": [
    "Now with the data for different values of p, we have to expand this by implementing different values of $n$. At the same time, we want to find out the threshold probability for each value of $n$ used. We will define the $threshold$ as the probability at which the gradient of the graph is the sharpest.\n",
    "The $threshold$ is found by using the numpy gradient function on the list of values calculated."
   ]
  },
  {
   "cell_type": "code",
   "execution_count": 2,
   "metadata": {},
   "outputs": [
    {
     "name": "stderr",
     "output_type": "stream",
     "text": [
      "ERROR:root:Internal Python error in the inspect module.\n",
      "Below is the traceback from this internal error.\n",
      "\n"
     ]
    },
    {
     "name": "stdout",
     "output_type": "stream",
     "text": [
      "Traceback (most recent call last):\n",
      "  File \"C:\\Users\\kjkchang\\AppData\\Local\\Continuum\\anaconda3\\lib\\site-packages\\IPython\\core\\interactiveshell.py\", line 3267, in run_code\n",
      "    exec(code_obj, self.user_global_ns, self.user_ns)\n",
      "  File \"<ipython-input-2-c674a78f3ac3>\", line 7, in <module>\n",
      "    res = test(nodes, i, 1000)\n",
      "  File \"<ipython-input-1-8b82f48733fe>\", line 10, in test\n",
      "    if nx.is_connected(g):\n",
      "  File \"<decorator-gen-299>\", line 2, in is_connected\n",
      "  File \"C:\\Users\\kjkchang\\AppData\\Local\\Continuum\\anaconda3\\lib\\site-packages\\networkx\\utils\\decorators.py\", line 82, in _not_implemented_for\n",
      "    return not_implement_for_func(*args, **kwargs)\n",
      "  File \"C:\\Users\\kjkchang\\AppData\\Local\\Continuum\\anaconda3\\lib\\site-packages\\networkx\\algorithms\\components\\connected.py\", line 162, in is_connected\n",
      "    return sum(1 for node in _plain_bfs(G, arbitrary_element(G))) == len(G)\n",
      "  File \"C:\\Users\\kjkchang\\AppData\\Local\\Continuum\\anaconda3\\lib\\site-packages\\networkx\\algorithms\\components\\connected.py\", line 162, in <genexpr>\n",
      "    return sum(1 for node in _plain_bfs(G, arbitrary_element(G))) == len(G)\n",
      "KeyboardInterrupt\n",
      "\n",
      "During handling of the above exception, another exception occurred:\n",
      "\n",
      "Traceback (most recent call last):\n",
      "  File \"C:\\Users\\kjkchang\\AppData\\Local\\Continuum\\anaconda3\\lib\\site-packages\\IPython\\core\\interactiveshell.py\", line 2018, in showtraceback\n",
      "    stb = value._render_traceback_()\n",
      "AttributeError: 'KeyboardInterrupt' object has no attribute '_render_traceback_'\n",
      "\n",
      "During handling of the above exception, another exception occurred:\n",
      "\n",
      "Traceback (most recent call last):\n",
      "  File \"C:\\Users\\kjkchang\\AppData\\Local\\Continuum\\anaconda3\\lib\\site-packages\\IPython\\core\\ultratb.py\", line 1095, in get_records\n",
      "    return _fixed_getinnerframes(etb, number_of_lines_of_context, tb_offset)\n",
      "  File \"C:\\Users\\kjkchang\\AppData\\Local\\Continuum\\anaconda3\\lib\\site-packages\\IPython\\core\\ultratb.py\", line 313, in wrapped\n",
      "    return f(*args, **kwargs)\n",
      "  File \"C:\\Users\\kjkchang\\AppData\\Local\\Continuum\\anaconda3\\lib\\site-packages\\IPython\\core\\ultratb.py\", line 347, in _fixed_getinnerframes\n",
      "    records = fix_frame_records_filenames(inspect.getinnerframes(etb, context))\n",
      "  File \"C:\\Users\\kjkchang\\AppData\\Local\\Continuum\\anaconda3\\lib\\inspect.py\", line 1500, in getinnerframes\n",
      "    frameinfo = (tb.tb_frame,) + getframeinfo(tb, context)\n",
      "  File \"C:\\Users\\kjkchang\\AppData\\Local\\Continuum\\anaconda3\\lib\\inspect.py\", line 1458, in getframeinfo\n",
      "    filename = getsourcefile(frame) or getfile(frame)\n",
      "  File \"C:\\Users\\kjkchang\\AppData\\Local\\Continuum\\anaconda3\\lib\\inspect.py\", line 696, in getsourcefile\n",
      "    if getattr(getmodule(object, filename), '__loader__', None) is not None:\n",
      "  File \"C:\\Users\\kjkchang\\AppData\\Local\\Continuum\\anaconda3\\lib\\inspect.py\", line 739, in getmodule\n",
      "    f = getabsfile(module)\n",
      "  File \"C:\\Users\\kjkchang\\AppData\\Local\\Continuum\\anaconda3\\lib\\inspect.py\", line 708, in getabsfile\n",
      "    _filename = getsourcefile(object) or getfile(object)\n",
      "  File \"C:\\Users\\kjkchang\\AppData\\Local\\Continuum\\anaconda3\\lib\\inspect.py\", line 693, in getsourcefile\n",
      "    if os.path.exists(filename):\n",
      "  File \"C:\\Users\\kjkchang\\AppData\\Local\\Continuum\\anaconda3\\lib\\genericpath.py\", line 19, in exists\n",
      "    os.stat(path)\n",
      "KeyboardInterrupt\n"
     ]
    },
    {
     "ename": "KeyboardInterrupt",
     "evalue": "",
     "output_type": "error",
     "traceback": [
      "\u001b[1;31m---------------------------------------------------------------------------\u001b[0m"
     ]
    }
   ],
   "source": [
    "thresholds = {} \n",
    "\n",
    "# Collecting data for 10<n<100\n",
    "for nodes in range(10, 101, 1): \n",
    "    graph = {}\n",
    "    for i in np.arange(0, 1, 0.001): # Varying p for 0 < p < 0.8\n",
    "        res = test(nodes, i, 1000)\n",
    "        graph[i] = res\n",
    "        if res == 1:  # When all 1000 of 1000 graphs are connected, the loop is broken to save time\n",
    "            break\n",
    "    plt.title(f\"Erdos-Renyi: n = {nodes}\")    # Plotting the graphs and saving them\n",
    "    plt.xlabel(\"p\")\n",
    "    plt.ylabel(\"Probability of all nodes being connected\")\n",
    "    plt.plot(graph.keys(), graph.values())\n",
    "    plt.axis([0, 1, 0, 1])\n",
    "    plt.savefig(f'ER{nodes}')\n",
    "    data = np.array(list(graph.values()))\n",
    "    \n",
    "    # Collecting the values of the thresholds in dictionary \"thresholds\"\n",
    "    for p in range(np.size(data)):   \n",
    "        if np.gradient(data)[p] == max(np.gradient(data)):\n",
    "            thresholds[nodes] = list(graph.keys())[p]   \n",
    "    plt.clf()"
   ]
  },
  {
   "cell_type": "code",
   "execution_count": null,
   "metadata": {},
   "outputs": [],
   "source": [
    "import time\n",
    "\n",
    "toc = time.time()\n",
    "def trial(n, p):\n",
    "    g = nx.erdos_renyi_graph(n, p)\n",
    "    return nx.is_connected(g)\n",
    "\n",
    "trial = np.vectorize(trial)\n",
    "res = {}\n",
    "def mass_trial(n, p, num):\n",
    "    res[p] = sum(trial(np.full(num, n), np.full(num, p))) / num\n",
    "    return res\n",
    "\n",
    "mass_trial = np.vectorize(mass_trial)\n",
    "num = 1000\n",
    "thresholds = {}\n",
    "\n",
    "for n in range(10, 101):\n",
    "    res = {}\n",
    "    mass_trial(np.full(800, n), np.arange(0.01, 0.81, 0.001), np.full(800, num))\n",
    "    plt.plot(res.keys(), res.values())\n",
    "    plt.title(f\"Erdos-Renyi: n = {n}\")\n",
    "    plt.xlabel(\"p\")\n",
    "    plt.ylabel(\"Probability of all nodes being connected\")\n",
    "    plt.axis([0, 1, 0, 1])\n",
    "    plt.plot(res.keys(), res.values())\n",
    "    plt.savefig(f'ER{n}')\n",
    "    data = np.array(list(res.values()))\n",
    "    thresholds[n] = np.max(np.gradient(data))\n",
    "    print(n)\n",
    "\n",
    "tic = time.time()\n",
    "print(f\"Time taken: {tic-toc}\")"
   ]
  },
  {
   "cell_type": "markdown",
   "metadata": {},
   "source": [
    "After plotting graphs for $n$ where $10<n<100$, we can now determine the shape of the graph. Which is weird.\n",
    "From the graphs, we have also found the threshold values for the values of $n$, thus we can plot that onto a graph and attempt to map a function to it."
   ]
  },
  {
   "cell_type": "code",
   "execution_count": null,
   "metadata": {},
   "outputs": [],
   "source": [
    "plt.title(\"Thresholds against number of nodes\")\n",
    "plt.xlabel(\"Number of nodes\")\n",
    "plt.ylabel(\"Threshold probabillity\")\n",
    "plt.plot(thresholds.keys(), thresholds.values())\n",
    "plt.axis([0, 100, 0, 0.3])\n",
    "plt.savefig('Thresholds')"
   ]
  },
  {
   "cell_type": "markdown",
   "metadata": {},
   "source": [
    "Given the graph for thresholds against number of nodes, it should be noted that the graph is more inconsistent when the number of nodes are fewer. \n",
    "To try and model the threshold using a function, we will assume a power law whereby $t = an^b$, where both $a$ and $b$ are constants. Thus we take log to base 10 on both sides, and perform linear regression on $log_{10} t$ and $log_{10} n$.\n",
    "\n",
    "The coefficient and vertical intercept are then found, which are equal to $b$, and $log_{10} a$ respectively."
   ]
  },
  {
   "cell_type": "code",
   "execution_count": 51,
   "metadata": {},
   "outputs": [
    {
     "name": "stdout",
     "output_type": "stream",
     "text": [
      "b = [[-0.75009541]]\n",
      "log10a = [0.17443774]\n"
     ]
    }
   ],
   "source": [
    "from sklearn import linear_model\n",
    "reg = linear_model.LinearRegression()\n",
    "y = np.array(list(map(np.math.log10, thresholds.values()))).reshape(-1, 1)\n",
    "x = np.array(list(map(np.math.log10,[key for key in thresholds.keys()]))).reshape(-1,1)\n",
    "reg.fit(x, y)\n",
    "print(f\"b = {reg.coef_}\")\n",
    "print(f\"log10a = {reg.intercept_}\")"
   ]
  },
  {
   "cell_type": "markdown",
   "metadata": {},
   "source": [
    "With the values of the coefficient and intercept, we shall now plot another graph using our power law to compare the model with the data collected."
   ]
  },
  {
   "cell_type": "code",
   "execution_count": 52,
   "metadata": {},
   "outputs": [
    {
     "data": {
      "image/png": "[encoded data removed]",
      "text/plain": [
       "<Figure size 432x288 with 1 Axes>"
      ]
     },
     "metadata": {
      "needs_background": "light"
     },
     "output_type": "display_data"
    }
   ],
   "source": [
    "t_x = [i for i in range(10, 101)]\n",
    "t_y = [((i**reg.coef_[0][0])*(10**reg.intercept_[0])) for i in t_x]\n",
    "plt.title(\"Model of threshold against no. of nodes using regression\")\n",
    "plt.xlabel(\"Number of nodes\")\n",
    "plt.ylabel(\"Threshold probability\")\n",
    "plt.plot(t_x, t_y)\n",
    "plt.axis([0, 100, 0, 0.3])\n",
    "plt.show()"
   ]
  },
  {
   "cell_type": "markdown",
   "metadata": {},
   "source": [
    "Thus from running the program, we find our expression of $t$ to be $t = 1.569n^{-0.760}$. "
   ]
  }
 ],
 "metadata": {
  "kernelspec": {
   "display_name": "Python 3",
   "language": "python",
   "name": "python3"
  },
  "language_info": {
   "codemirror_mode": {
    "name": "ipython",
    "version": 3
   },
   "file_extension": ".py",
   "mimetype": "text/x-python",
   "name": "python",
   "nbconvert_exporter": "python",
   "pygments_lexer": "ipython3",
   "version": "3.7.1"
  }
 },
 "nbformat": 4,
 "nbformat_minor": 2
}
