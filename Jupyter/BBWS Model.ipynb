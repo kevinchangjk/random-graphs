{
 "cells": [
  {
   "cell_type": "markdown",
   "metadata": {},
   "source": [
    "# BBWS Model\n",
    "\n",
    "### BBWS model is short for Bianconi Barabasi Watts Strogatz, and this BBWS model refers to a crossover of the WS and BB model that has already been established, and aims to create a model that can achieve high clustering together with a scale free degree distribution."
   ]
  },
  {
   "cell_type": "markdown",
   "metadata": {},
   "source": [
    "The model works as a Watts-Strogatz model would, initialising with a graph of $n$ nodes and each node connected to $k/2$ immediate neighbours on the left and right. When rewiring however, the edge is rewired with preferential attachment, and considering a fitness factor, $\\eta$, that is normally distributed for each node."
   ]
  },
  {
   "cell_type": "code",
   "execution_count": 3,
   "metadata": {},
   "outputs": [],
   "source": [
    "import numpy as np\n",
    "import networkx as nx\n",
    "import matplotlib.pyplot as plt\n",
    "from collections import Counter\n",
    "\n",
    "def bbws(n, k, beta):\n",
    "    \n",
    "    # Creating a list of fitness factors for the nodes\n",
    "    etas = np.array([-1])\n",
    "    while any(etas<0) or any(etas>1):\n",
    "        etas = np.random.normal(0.5, 1 / n, n)\n",
    "        \n",
    "    def p_factored(node):\n",
    "        return etas[node]*g.degree(node)\n",
    "    p_factored = np.vectorize(p_factored)\n",
    "        \n",
    "    g = nx.Graph()\n",
    "    edges_initial = [(i, i+j+1) if i+j+1 < n else (i, i+j+1-n) for i in range(n) for j in range(int(k/2))]\n",
    "    g.add_edges_from(edges_initial)\n",
    "    \n",
    "    for node in range(n):\n",
    "        \n",
    "        # A list of nodes which the edge can be rewired to are created\n",
    "        nodes = list(range(n))\n",
    "        nodes.remove(node)\n",
    "                \n",
    "        for i in range(int(k/2)):\n",
    "        \n",
    "            # b is a probability to determine if the edge created will be rewired, if it's less than beta\n",
    "            b = np.random.ranf(1)\n",
    "            if b <= beta:\n",
    "                \n",
    "                if node+i+1 < n:\n",
    "                    g.remove_edge(node, node+i+1)\n",
    "                else:\n",
    "                    g.remove_edge(node, node+i+1-n)\n",
    "                \n",
    "                p_total = sum(p_factored(np.array(nodes)))\n",
    "        \n",
    "                def p_dist(node):\n",
    "                    return p_factored(node) / p_total\n",
    "                p_dist = np.vectorize(p_dist)\n",
    "\n",
    "                p = p_dist(np.array(nodes))\n",
    "\n",
    "                # The edge is then rewired by selecting a node and adding the edge\n",
    "                choosing = True\n",
    "                while choosing:\n",
    "                    node_chosen = np.random.choice(nodes, p = p)\n",
    "                    if g.has_edge(node_chosen, node):\n",
    "                        continue\n",
    "                    else:\n",
    "                        g.add_edge(node_chosen, node)\n",
    "                        choosing = False\n",
    "\n",
    "    return g\n",
    "        "
   ]
  },
  {
   "cell_type": "code",
   "execution_count": 4,
   "metadata": {},
   "outputs": [
    {
     "name": "stdout",
     "output_type": "stream",
     "text": [
      "Name: \n",
      "Type: Graph\n",
      "Number of nodes: 4039\n",
      "Number of edges: 88858\n",
      "Average degree:  44.0000\n",
      "Global clustering coefficient: 0.011\n",
      "Transitivity: 0.011\n",
      "Diameter: 4\n"
     ]
    },
    {
     "name": "stderr",
     "output_type": "stream",
     "text": [
      "C:\\Users\\kjkchang\\Anaconda3\\lib\\site-packages\\networkx\\drawing\\nx_pylab.py:611: MatplotlibDeprecationWarning: isinstance(..., numbers.Number)\n",
      "  if cb.is_numlike(alpha):\n"
     ]
    },
    {
     "data": {
      "image/png": "[encoded data removed]",
      "text/plain": [
       "<Figure size 432x288 with 1 Axes>"
      ]
     },
     "metadata": {},
     "output_type": "display_data"
    },
    {
     "data": {
      "image/png": "[encoded data removed]",
      "text/plain": [
       "<Figure size 432x288 with 1 Axes>"
      ]
     },
     "metadata": {
      "needs_background": "light"
     },
     "output_type": "display_data"
    }
   ],
   "source": [
    "g = bbws(4039, 44, 1)\n",
    "print(nx.info(g))\n",
    "print(f\"Global clustering coefficient: {np.round(nx.average_clustering(g), 4)}\")\n",
    "print(f\"Transitivity: {np.round(nx.transitivity(g), 4)}\")\n",
    "print(f\"Diameter: {np.round(nx.diameter(g), 4)}\")\n",
    "nx.draw(g)\n",
    "plt.show()\n",
    "plt.clf()\n",
    "\n",
    "degree_sequence = sorted([d for n, d in g.degree()], reverse=True)\n",
    "count = Counter(degree_sequence)\n",
    "\n",
    "plt.bar(count.keys(), count.values(), width=0.80, color='b')\n",
    "plt.title(\"Degree Histogram\")\n",
    "plt.xlabel(\"Degree\")\n",
    "plt.ylabel(\"Number of nodes\")\n",
    "plt.show()"
   ]
  },
  {
   "cell_type": "code",
   "execution_count": null,
   "metadata": {},
   "outputs": [],
   "source": []
  }
 ],
 "metadata": {
  "kernelspec": {
   "display_name": "Python 3",
   "language": "python",
   "name": "python3"
  },
  "language_info": {
   "codemirror_mode": {
    "name": "ipython",
    "version": 3
   },
   "file_extension": ".py",
   "mimetype": "text/x-python",
   "name": "python",
   "nbconvert_exporter": "python",
   "pygments_lexer": "ipython3",
   "version": "3.7.1"
  }
 },
 "nbformat": 4,
 "nbformat_minor": 2
}
