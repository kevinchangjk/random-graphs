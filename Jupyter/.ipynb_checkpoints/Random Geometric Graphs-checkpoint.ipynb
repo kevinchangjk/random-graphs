{
 "cells": [
  {
   "cell_type": "markdown",
   "metadata": {},
   "source": [
    "# Random Geometric Graphs\n",
    "\n",
    "### These category of graphs are random models made by building the graph based on the Euclidean distance and separation of nodes. In this case, we will be building a model by connecting all randomly scattered nodes if the distance is below a certain parameter $d$."
   ]
  },
  {
   "cell_type": "code",
   "execution_count": 2,
   "metadata": {},
   "outputs": [],
   "source": [
    "import numpy as np\n",
    "import networkx as nx\n",
    "import matplotlib.pyplot as plt\n",
    "import time\n",
    "from collections import Counter\n",
    "\n",
    "# Function to generate random polar coordinates\n",
    "def post_gen(t):\n",
    "    theta, norm = np.random.ranf() * np.pi * 2, np.random.ranf()\n",
    "    x, y = np.cos(theta) * norm, np.sin(theta) * norm\n",
    "    return [x, y]\n",
    "\n",
    "def geometric_graph(n, d):\n",
    "    g = nx.Graph()\n",
    "    posts = list(map(post_gen, range(n)))\n",
    "    \n",
    "    def node_add(node):\n",
    "        return (node, dict(pos = posts[node]))\n",
    "    \n",
    "    nodes = list(map(node_add, range(n)))\n",
    "    g.add_nodes_from(nodes)\n",
    "    \n",
    "    def edges_add(node):\n",
    "    \n",
    "        def distance(target):\n",
    "            dist = ((posts[node][0] - posts[target][0]) ** 2 + (posts[node][1] - posts[target][1]) ** 2)**0.5\n",
    "            return dist\n",
    "        \n",
    "        distance = np.vectorize(distance)\n",
    "        dists = distance(range(n))\n",
    "        targets = np.where(dists < d)[0]\n",
    "        return zip(targets, np.full(len(targets), node))\n",
    "    \n",
    "    edges_add = np.vectorize(edges_add)\n",
    "    edges = edges_add(range(n))\n",
    "    for edge in edges:\n",
    "        g.add_edges_from(edge)\n",
    "        \n",
    "    return g\n"
   ]
  },
  {
   "cell_type": "code",
   "execution_count": null,
   "metadata": {},
   "outputs": [
    {
     "name": "stdout",
     "output_type": "stream",
     "text": [
      "Name: \n",
      "Type: Graph\n",
      "Number of nodes: 4039\n",
      "Number of edges: 594784\n",
      "Average degree: 294.5204\n"
     ]
    }
   ],
   "source": [
    "toc = time.time()\n",
    "g = geometric_graph(4039, 0.2)\n",
    "tic = time.time()\n",
    "print(nx.info(g))\n",
    "print(f\"\\nGlobal clustering coefficient: {nx.average_clustering(g)}\")\n",
    "print(f\"Transitivity: {nx.transitivity(g)}\")\n",
    "if nx.is_connected(g):\n",
    "    print(f\"Diameter: {nx.diameter(g)}\")\n",
    "else:\n",
    "    print(\"Graph not connected\")\n",
    "print(f\"Time taken: {tic-toc}\")\n",
    "pos = nx.get_node_attributes(g, 'pos')\n",
    "nx.draw(g, pos)\n",
    "plt.show()\n",
    "plt.clf()\n",
    "\n",
    "degree_sequence = sorted([d for n, d in g.degree()], reverse=True)\n",
    "count = Counter(degree_sequence)\n",
    "\n",
    "plt.bar(count.keys(), count.values(), color='b')\n",
    "plt.title(\"Degree Histogram\")\n",
    "plt.xlabel(\"Degree\")\n",
    "plt.ylabel(\"Number of nodes\")\n",
    "plt.show()\n"
   ]
  },
  {
   "cell_type": "code",
   "execution_count": null,
   "metadata": {},
   "outputs": [],
   "source": []
  }
 ],
 "metadata": {
  "kernelspec": {
   "display_name": "Python 3",
   "language": "python",
   "name": "python3"
  },
  "language_info": {
   "codemirror_mode": {
    "name": "ipython",
    "version": 3
   },
   "file_extension": ".py",
   "mimetype": "text/x-python",
   "name": "python",
   "nbconvert_exporter": "python",
   "pygments_lexer": "ipython3",
   "version": "3.7.1"
  }
 },
 "nbformat": 4,
 "nbformat_minor": 2
}
