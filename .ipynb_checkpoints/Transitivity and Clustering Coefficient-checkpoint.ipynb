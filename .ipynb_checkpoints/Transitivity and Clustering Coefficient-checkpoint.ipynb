{
 "cells": [
  {
   "cell_type": "markdown",
   "metadata": {},
   "source": [
    "# Comparing Transitivity and Clustering Coefficient\n",
    "\n",
    "### Transitivity and Clustering Coefficient are both measures used to quantify the clustering of graphs and networks. Transitivity is the ratio of closed triangles in a network divided by the number of paths of length 2, and is thus the probability that if two nodes are connected separately to a common node, the two nodes are also connected. Clustering coefficient is the mean of the local clustering coefficients, which is calculated by dividing the number of existing edges between the neighbouring nodes of a node, and the total number of edges that could be formed among them."
   ]
  },
  {
   "cell_type": "markdown",
   "metadata": {},
   "source": [
    "Given that from previous analysis, the Klemm-Eguiluz model is able to give a graph with a high difference in clustering coefficient and transitivity, we will be using this graph to investigate the transitivity and clustering coefficient ratios."
   ]
  },
  {
   "cell_type": "code",
   "execution_count": 24,
   "metadata": {},
   "outputs": [],
   "source": [
    "import numpy as np\n",
    "import networkx as nx\n",
    "\n",
    "def klemm_eguiluz(n, m, mu):\n",
    "    # initial condition of complete graphs with m nodes\n",
    "    g = nx.complete_graph(m)\n",
    "    # list used to represent whether or not a node is activated(1) or deactivated(0)\n",
    "    activation = list(np.ones(m))\n",
    "    \n",
    "    for i in range(m, n):\n",
    "        # generate list of edges which are to be randomly rewired\n",
    "        mu_factor = np.random.ranf(m) < mu\n",
    "        activated = [x for x in range(i) if activation[x] == 1]\n",
    "        targets = set([activated[j] for j in range(m) if mu_factor[j] == 0])\n",
    "        \n",
    "        # Linear preferential attachment\n",
    "        p_total = sum(map(g.degree, range(i)))\n",
    "        p_dstr = [g.degree(node) / p_total for node in range(i)]\n",
    "        \n",
    "        while len(targets) < m:\n",
    "            targets.add(np.random.choice(list(range(i)), p = p_dstr))\n",
    "        g.add_edges_from(zip(np.full(m, i), list(targets)))\n",
    "        \n",
    "        # Activation and deactivation where p = a / k, and 1/a = sum of 1/k\n",
    "        \n",
    "        k = [g.degree(active)**-1 for active in activated]\n",
    "        a = sum(k)\n",
    "        p_deact = [l / a for l in k]\n",
    "        deactivated = np.random.choice(activated, p = p_deact)\n",
    "        activation[deactivated] = 0\n",
    "        activation.append(1)\n",
    "                \n",
    "    return g"
   ]
  },
  {
   "cell_type": "markdown",
   "metadata": {},
   "source": [
    "With the function for the Klemm-Eguiluz model now defined, we will create an example graph to look at, and find the actual clustering coefficient and transitivty for the graph using the library functions."
   ]
  },
  {
   "cell_type": "code",
   "execution_count": 28,
   "metadata": {},
   "outputs": [
    {
     "name": "stdout",
     "output_type": "stream",
     "text": [
      "\n",
      "Global clustering coefficient: 0.42943667788092776\n",
      "Transitivity: 0.3749686604798803\n"
     ]
    }
   ],
   "source": [
    "g = klemm_eguiluz(500, 50, 0.3)\n",
    "cc_func = nx.average_clustering(g)\n",
    "trst_func = nx.transitivity(g)\n",
    "print(f\"\\nGlobal clustering coefficient: {cc_func}\")\n",
    "print(f\"Transitivity: {trst_func}\")"
   ]
  },
  {
   "cell_type": "markdown",
   "metadata": {},
   "source": [
    "Now, we will define functions to manually calculate the global clustering coefficient, and in ensuring that we are correct with our algorithm, we will define another function to calculate transitivity."
   ]
  },
  {
   "cell_type": "code",
   "execution_count": 31,
   "metadata": {},
   "outputs": [],
   "source": [
    "def cc_manual(g):\n",
    "    return sum([nx.clustering(g, i) for i in g.nodes()]) / len(g.nodes)\n",
    "\n",
    "def trst_manual(g):\n",
    "    liss = [nx.clustering(g, i) * (g.degree(i)) * (g.degree(i)-1) for i in g.nodes()]\n",
    "    lisst = [(g.degree(i)) * (g.degree(i)-1) for i in g.nodes()]\n",
    "    return sum(liss) / sum(lisst)"
   ]
  },
  {
   "cell_type": "code",
   "execution_count": 32,
   "metadata": {},
   "outputs": [
    {
     "name": "stdout",
     "output_type": "stream",
     "text": [
      "\n",
      "Global clustering coefficient: 0.42943667788092776\n",
      "Transitivity: 0.3749686604798803\n"
     ]
    }
   ],
   "source": [
    "cc_man = cc_manual(g)\n",
    "trst_man = trst_manual(g)\n",
    "print(f\"\\nGlobal clustering coefficient: {cc_man}\")\n",
    "print(f\"Transitivity: {trst_man}\")"
   ]
  },
  {
   "cell_type": "markdown",
   "metadata": {},
   "source": [
    "As the values of both global clustering coefficient and transitivity are the same for both the innate library function and our manually defined function, we can conclude that the function we defined is accurate.\n",
    "\n",
    "As such, the transitivity of a graph is the weighted average of the local clustering coefficients by $k_i(k_i - 1)$ for all $i$ in the nodes of the graph."
   ]
  }
 ],
 "metadata": {
  "kernelspec": {
   "display_name": "Python 3",
   "language": "python",
   "name": "python3"
  },
  "language_info": {
   "codemirror_mode": {
    "name": "ipython",
    "version": 3
   },
   "file_extension": ".py",
   "mimetype": "text/x-python",
   "name": "python",
   "nbconvert_exporter": "python",
   "pygments_lexer": "ipython3",
   "version": "3.7.1"
  }
 },
 "nbformat": 4,
 "nbformat_minor": 2
}
